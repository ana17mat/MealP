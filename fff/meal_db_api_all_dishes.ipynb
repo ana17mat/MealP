{
 "cells": [
  {
   "cell_type": "code",
   "execution_count": 27,
   "id": "00ac1405",
   "metadata": {},
   "outputs": [],
   "source": [
    "\n",
    "\n",
    "categories_list=['Seafood']\n",
    "\n",
    "import numpy as np\n",
    "import pandas as pd\n",
    "import requests\n",
    "\n",
    "list_dicts=[]\n",
    "\n",
    "for category in categories_list: #precorrer lista de categorias\n",
    "\n",
    "    #print(category)\n",
    "\n",
    "    url = \"http://www.themealdb.com/api/json/v1/1/filter.php\"  \n",
    "    response = requests.get(url, params={'c':category})\n",
    "    #print(response.status_code)\n",
    "\n",
    "\n",
    "    id_list=list(pd.DataFrame.from_dict(response.json()['meals'])['idMeal'])  #lista de ids dentro desta categoria\n",
    "\n",
    "    for idM in id_list[:50]: #percorrer lista de ids\n",
    "\n",
    "        #print(idM)\n",
    "\n",
    "        url='http://www.themealdb.com/api/json/v1/1/lookup.php'\n",
    "        response = requests.get(url, params={'i':idM})\n",
    "        #print(response.status_code)\n",
    "\n",
    "        dict=response.json()['meals'][0] #dicionario desta meal\n",
    "        dict['ings'] = [dict[k] for k in list(dict.keys())[9:29] if dict[k]] #acrescenta key-value dos ingredientes\n",
    "        dict['meas'] = [dict[k] for k in list(dict.keys())[29:49] if dict[k]] #acrescenta key-value das measurements\n",
    "\n",
    "        list_dicts.append(dict)\n",
    "\n",
    "\n",
    "tabela=pd.DataFrame(list_dicts)\n",
    "tabela1=tabela.drop(tabela.columns[9:49], axis=1).drop(['strDrinkAlternate','strSource','strImageSource','strCreativeCommonsConfirmed','dateModified'], axis=1)\n",
    "\n",
    "\n",
    "tabela2=tabela1[['idMeal','strMeal','ings']]\n",
    "\n"
   ]
  },
  {
   "cell_type": "code",
   "execution_count": 27,
   "id": "f0a192a6",
   "metadata": {},
   "outputs": [],
   "source": []
  },
  {
   "cell_type": "code",
   "execution_count": 41,
   "id": "40814145",
   "metadata": {},
   "outputs": [
    {
     "data": {
      "text/plain": [
       "['Salmon', 'Olive oil', 'Soy Sauce', 'Sake', 'Sesame Seed']"
      ]
     },
     "execution_count": 41,
     "metadata": {},
     "output_type": "execute_result"
    }
   ],
   "source": [
    " tabela2['ings'][8]"
   ]
  },
  {
   "cell_type": "code",
   "execution_count": 1,
   "id": "735c43f9",
   "metadata": {},
   "outputs": [],
   "source": [
    "chicken_alfredo = {'id':52796,\n",
    "                    'ings': [465, 728, 731, 86, 182, 461, 287, 56, 382, 155, 121]}"
   ]
  },
  {
   "cell_type": "code",
   "execution_count": 2,
   "id": "47d34bc5",
   "metadata": {},
   "outputs": [],
   "source": [
    "tandoori_chicken = {'id':52806,\n",
    "                    'ings': [727,460, 531, 208, 88, 501, 85]}           "
   ]
  },
  {
   "cell_type": "code",
   "execution_count": 3,
   "id": "f1fe50f4",
   "metadata": {},
   "outputs": [],
   "source": [
    "thai_green_curry = {'id':52814,\n",
    "                    'ings': [597, 86, 209, 727, 531, 287, 389]}"
   ]
  },
  {
   "cell_type": "code",
   "execution_count": 4,
   "id": "0f841cce",
   "metadata": {},
   "outputs": [],
   "source": [
    "piri_piri_chicken_and_slaw = {'id':53039,\n",
    "                            'ings': [535, 460, 306, 372, 723, 85, 177, 708]}"
   ]
  },
  {
   "cell_type": "code",
   "execution_count": 5,
   "id": "035c26f2",
   "metadata": {},
   "outputs": [],
   "source": [
    "chicken_marengo = {'id': 52920,\n",
    "                    'ings': [373, 511, 290, 113, 210 ]}"
   ]
  },
  {
   "cell_type": "code",
   "execution_count": 6,
   "id": "ce232b56",
   "metadata": {},
   "outputs": [],
   "source": [
    "chicken_couscous = {'id': 52850,\n",
    "                    'ings': [242, 88, 351, 340, 601, 635, 737]}"
   ]
  },
  {
   "cell_type": "code",
   "execution_count": 7,
   "id": "36d235a0",
   "metadata": {},
   "outputs": [],
   "source": [
    "ratatouille = {'id': 52908,\n",
    "                'ings':[720, 731, 81, 709, 713]}"
   ]
  },
  {
   "cell_type": "code",
   "execution_count": 8,
   "id": "180c61fe",
   "metadata": {},
   "outputs": [],
   "source": [
    "spinach_ricotta_canneloni = {'id': 52849,\n",
    "                            'ings': [462, 420, 121, 51, 709, 308, 81, 373, 731]}"
   ]
  },
  {
   "cell_type": "code",
   "execution_count": 9,
   "id": "5d4aef8b",
   "metadata": {},
   "outputs": [],
   "source": [
    "tahini_lentils = {'id': 52869,\n",
    "                'ings': [727, 713, 720, 322, 323, 389]}"
   ]
  },
  {
   "cell_type": "code",
   "execution_count": 10,
   "id": "61d85118",
   "metadata": {},
   "outputs": [],
   "source": [
    "vegetarian_cassarole = {'id': 52863,\n",
    "                        'ings':[323, 709, 708, 715, 731, 713, 115, 89] }\n",
    "                        "
   ]
  },
  {
   "cell_type": "code",
   "execution_count": 11,
   "id": "3128a9f2",
   "metadata": {},
   "outputs": [],
   "source": [
    "vegetarian_chilli = {'id': 52867,\n",
    "                    'ings': [747, 34, 87, 709, ]}"
   ]
  },
  {
   "cell_type": "code",
   "execution_count": 12,
   "id": "7fff70dd",
   "metadata": {},
   "outputs": [],
   "source": [
    "salmon_avocado_salad = {'id': 52960,\n",
    "                        'ings': [17, 711, 720, 727, 109, 724]}"
   ]
  },
  {
   "cell_type": "code",
   "execution_count": 13,
   "id": "e53361be",
   "metadata": {},
   "outputs": [],
   "source": [
    "grilled_portuguese_sardines = {'id': 53041,\n",
    "                            'ings': [66, 67, 460, 727, 85, 373, 339]}"
   ]
  },
  {
   "cell_type": "code",
   "execution_count": 14,
   "id": "b701a020",
   "metadata": {},
   "outputs": [],
   "source": [
    "kung_pow_prawn = {'id': 52946,\n",
    "                'ings': [19, 421, 444, 316, 414, 34, 35]}"
   ]
  },
  {
   "cell_type": "code",
   "execution_count": 15,
   "id": "867e25c6",
   "metadata": {},
   "outputs": [],
   "source": [
    "salmon_prawn_risotto = {'id': 52823,\n",
    "                        'ings': [336, 4, 26, 14, 115, 731, 465]}"
   ]
  },
  {
   "cell_type": "code",
   "execution_count": 16,
   "id": "b2a04965",
   "metadata": {},
   "outputs": [],
   "source": [
    "honey_teryaki_salmon = {'id': 52773,\n",
    "                        'ings': [3, 10, 373, 380, 415, 105]}"
   ]
  },
  {
   "cell_type": "code",
   "execution_count": 17,
   "id": "3bf72cbe",
   "metadata": {},
   "outputs": [],
   "source": [
    "f1 = {'id': 52777,\n",
    "                        'ings': [709, 81, 487, 490, 722, 723, 428, 291]}\n",
    "\n",
    "f2 = {'id': 52819,\n",
    "                        'ings': [83, 727, 711, 177, 335, 451]}\n",
    "\n",
    "f3 = {'id': 53040,\n",
    "                                'ings': [86,316, 417, 34, 136, 26, 731]}\n",
    "\n",
    "f4 = {'id': 52975,\n",
    "                'ings': [727, 703, 720, 401, 723, 138]}\n",
    "\n",
    "f5 = {'id': 52936,\n",
    "                'ings': [12, 96, 315, 709, 373, 713, 36, 428]}\n",
    "\n",
    "\n",
    "\n",
    "m1 = {'id': 52770,\n",
    "                    'ings': [74, 179, 108, 114, 575, 373, 421]}\n",
    "m2 = {'id': 52826,\n",
    "                    'ings': [609, 460, 435, 212, 55, 85, 34, 731, ] }\n",
    "m3 = {'id': 52834,\n",
    "                'ings': [315, 114, 669, 138, 623, 162]}\n",
    "m4 = {'id': 52803,\n",
    "                    'ings': [379, 653, 667, 315, 121]}\n",
    "\n",
    "\n",
    "v1 = {'id': 53047, \n",
    "                        'ings': [265, 708, 340, 715, 727]}\n",
    "v2 = {'id': 52771,\n",
    "                        'ings': [116, 70, 81, 85, 715, 744]}\n",
    "v3 = {'id': 53026,\n",
    "        'ings': [208, 316, 428, 51]}\n",
    "v4 = {'id': 52906,\n",
    "            'ings': [427, 428, 349, 377]}\n",
    "v5 = {'id': 52811,\n",
    "            'ings': [429, 731, 242, 744, 89, 421]}"
   ]
  },
  {
   "cell_type": "code",
   "execution_count": 18,
   "id": "057c5c47",
   "metadata": {},
   "outputs": [],
   "source": [
    "meat_list=[chicken_alfredo, tandoori_chicken, thai_green_curry, \n",
    "           piri_piri_chicken_and_slaw, chicken_marengo, chicken_couscous, m1, m2, m3, m4]"
   ]
  },
  {
   "cell_type": "code",
   "execution_count": 19,
   "id": "a5c5d094",
   "metadata": {},
   "outputs": [],
   "source": [
    "fish_list=[salmon_avocado_salad, grilled_portuguese_sardines, kung_pow_prawn, \n",
    "           salmon_prawn_risotto, honey_teryaki_salmon, f1, f2, f3, f4, f5]"
   ]
  },
  {
   "cell_type": "code",
   "execution_count": 20,
   "id": "29605f06",
   "metadata": {},
   "outputs": [],
   "source": [
    "veggie_list=[ratatouille, spinach_ricotta_canneloni, tahini_lentils, vegetarian_cassarole, \n",
    "             vegetarian_chilli, v1, v2, v3, v4, v5]"
   ]
  },
  {
   "cell_type": "code",
   "execution_count": 21,
   "id": "1788ebeb",
   "metadata": {},
   "outputs": [],
   "source": [
    "import numpy as np\n",
    "import pandas as pd\n",
    "import requests"
   ]
  },
  {
   "cell_type": "code",
   "execution_count": 22,
   "id": "ce5b1f38",
   "metadata": {},
   "outputs": [],
   "source": [
    "meat_db=pd.DataFrame(meat_list)\n",
    "fish_db=pd.DataFrame(fish_list)\n",
    "veggie_db=pd.DataFrame(veggie_list)"
   ]
  },
  {
   "cell_type": "code",
   "execution_count": 23,
   "id": "6deccf57",
   "metadata": {},
   "outputs": [
    {
     "data": {
      "text/html": [
       "<div>\n",
       "<style scoped>\n",
       "    .dataframe tbody tr th:only-of-type {\n",
       "        vertical-align: middle;\n",
       "    }\n",
       "\n",
       "    .dataframe tbody tr th {\n",
       "        vertical-align: top;\n",
       "    }\n",
       "\n",
       "    .dataframe thead th {\n",
       "        text-align: right;\n",
       "    }\n",
       "</style>\n",
       "<table border=\"1\" class=\"dataframe\">\n",
       "  <thead>\n",
       "    <tr style=\"text-align: right;\">\n",
       "      <th></th>\n",
       "      <th>id</th>\n",
       "      <th>ings</th>\n",
       "    </tr>\n",
       "  </thead>\n",
       "  <tbody>\n",
       "    <tr>\n",
       "      <th>0</th>\n",
       "      <td>52908</td>\n",
       "      <td>[720, 731, 81, 709, 713]</td>\n",
       "    </tr>\n",
       "    <tr>\n",
       "      <th>1</th>\n",
       "      <td>52849</td>\n",
       "      <td>[462, 420, 121, 51, 709, 308, 81, 373, 731]</td>\n",
       "    </tr>\n",
       "    <tr>\n",
       "      <th>2</th>\n",
       "      <td>52869</td>\n",
       "      <td>[727, 713, 720, 322, 323, 389]</td>\n",
       "    </tr>\n",
       "    <tr>\n",
       "      <th>3</th>\n",
       "      <td>52863</td>\n",
       "      <td>[323, 709, 708, 715, 731, 713, 115, 89]</td>\n",
       "    </tr>\n",
       "    <tr>\n",
       "      <th>4</th>\n",
       "      <td>52867</td>\n",
       "      <td>[747, 34, 87, 709]</td>\n",
       "    </tr>\n",
       "    <tr>\n",
       "      <th>5</th>\n",
       "      <td>53047</td>\n",
       "      <td>[265, 708, 340, 715, 727]</td>\n",
       "    </tr>\n",
       "    <tr>\n",
       "      <th>6</th>\n",
       "      <td>52771</td>\n",
       "      <td>[116, 70, 81, 85, 715, 744]</td>\n",
       "    </tr>\n",
       "    <tr>\n",
       "      <th>7</th>\n",
       "      <td>53026</td>\n",
       "      <td>[208, 316, 428, 51]</td>\n",
       "    </tr>\n",
       "    <tr>\n",
       "      <th>8</th>\n",
       "      <td>52906</td>\n",
       "      <td>[427, 428, 349, 377]</td>\n",
       "    </tr>\n",
       "    <tr>\n",
       "      <th>9</th>\n",
       "      <td>52811</td>\n",
       "      <td>[429, 731, 242, 744, 89, 421]</td>\n",
       "    </tr>\n",
       "  </tbody>\n",
       "</table>\n",
       "</div>"
      ],
      "text/plain": [
       "      id                                         ings\n",
       "0  52908                     [720, 731, 81, 709, 713]\n",
       "1  52849  [462, 420, 121, 51, 709, 308, 81, 373, 731]\n",
       "2  52869               [727, 713, 720, 322, 323, 389]\n",
       "3  52863      [323, 709, 708, 715, 731, 713, 115, 89]\n",
       "4  52867                           [747, 34, 87, 709]\n",
       "5  53047                    [265, 708, 340, 715, 727]\n",
       "6  52771                  [116, 70, 81, 85, 715, 744]\n",
       "7  53026                          [208, 316, 428, 51]\n",
       "8  52906                         [427, 428, 349, 377]\n",
       "9  52811                [429, 731, 242, 744, 89, 421]"
      ]
     },
     "execution_count": 23,
     "metadata": {},
     "output_type": "execute_result"
    }
   ],
   "source": [
    "veggie_db"
   ]
  },
  {
   "cell_type": "code",
   "execution_count": null,
   "id": "b93efc6e",
   "metadata": {},
   "outputs": [],
   "source": [
    "      #  url='http://www.themealdb.com/api/json/v1/1/lookup.php'\n",
    "       # response = requests.get(url, params={'i':idM})\n",
    "        #print(response.status_code)\n",
    "#\n",
    " #       dict=response.json()['meals'][0] #dicionario desta meal\n",
    "  #      dict['ings'] = [dict[k] for k in list(dict.keys())[9:29] if dict[k]] #acrescenta key-value dos ingredientes"
   ]
  },
  {
   "cell_type": "code",
   "execution_count": 23,
   "id": "ff56fc44",
   "metadata": {},
   "outputs": [
    {
     "name": "stderr",
     "output_type": "stream",
     "text": [
      "/var/folders/tx/jymtlyn96zb0qj_hvpjlfm5r0000gn/T/ipykernel_2198/4084733670.py:15: SettingWithCopyWarning: \n",
      "A value is trying to be set on a copy of a slice from a DataFrame\n",
      "\n",
      "See the caveats in the documentation: https://pandas.pydata.org/pandas-docs/stable/user_guide/indexing.html#returning-a-view-versus-a-copy\n",
      "  db['name'][c]=dict['strMeal']\n",
      "/Users/anamatias/opt/anaconda3/lib/python3.9/site-packages/pandas/core/indexing.py:1732: SettingWithCopyWarning: \n",
      "A value is trying to be set on a copy of a slice from a DataFrame\n",
      "\n",
      "See the caveats in the documentation: https://pandas.pydata.org/pandas-docs/stable/user_guide/indexing.html#returning-a-view-versus-a-copy\n",
      "  self._setitem_single_block(indexer, value, name)\n",
      "/var/folders/tx/jymtlyn96zb0qj_hvpjlfm5r0000gn/T/ipykernel_2198/4084733670.py:17: SettingWithCopyWarning: \n",
      "A value is trying to be set on a copy of a slice from a DataFrame\n",
      "\n",
      "See the caveats in the documentation: https://pandas.pydata.org/pandas-docs/stable/user_guide/indexing.html#returning-a-view-versus-a-copy\n",
      "  db['ingsM'][c]=[dict[k] for k in list(dict.keys())[9:29] if dict[k]]\n"
     ]
    }
   ],
   "source": [
    "db=meat_db\n",
    "\n",
    "db['name']=np.zeros((len(db),1))\n",
    "db['ingsM']=np.zeros((len(db),1))\n",
    "\n",
    "for c in range(len(db)):\n",
    "    \n",
    "    idM=db['id'][c]\n",
    "    \n",
    "    url='http://www.themealdb.com/api/json/v1/1/lookup.php'\n",
    "    response=requests.get(url, params={'i':idM})\n",
    "    \n",
    "    dict=response.json()['meals'][0] #dicionario desta meal\n",
    "    \n",
    "    db['name'][c]=dict['strMeal']\n",
    "    \n",
    "    db['ingsM'][c]=[dict[k] for k in list(dict.keys())[9:29] if dict[k]] \n",
    "    \n",
    "\n",
    "    \n",
    "    \n",
    "    \n",
    "    \n",
    "    \n",
    "    \n",
    "    \n",
    "    \n",
    "    \n",
    "    \n"
   ]
  },
  {
   "cell_type": "code",
   "execution_count": 24,
   "id": "37e99b32",
   "metadata": {},
   "outputs": [
    {
     "data": {
      "text/html": [
       "<div>\n",
       "<style scoped>\n",
       "    .dataframe tbody tr th:only-of-type {\n",
       "        vertical-align: middle;\n",
       "    }\n",
       "\n",
       "    .dataframe tbody tr th {\n",
       "        vertical-align: top;\n",
       "    }\n",
       "\n",
       "    .dataframe thead th {\n",
       "        text-align: right;\n",
       "    }\n",
       "</style>\n",
       "<table border=\"1\" class=\"dataframe\">\n",
       "  <thead>\n",
       "    <tr style=\"text-align: right;\">\n",
       "      <th></th>\n",
       "      <th>id</th>\n",
       "      <th>ings</th>\n",
       "      <th>name</th>\n",
       "      <th>ingsM</th>\n",
       "    </tr>\n",
       "  </thead>\n",
       "  <tbody>\n",
       "    <tr>\n",
       "      <th>0</th>\n",
       "      <td>52796</td>\n",
       "      <td>[465, 728, 731, 86, 182, 461, 287, 56, 382, 15...</td>\n",
       "      <td>Chicken Alfredo Primavera</td>\n",
       "      <td>[Butter, Olive Oil, Chicken, Salt, Squash, Bro...</td>\n",
       "    </tr>\n",
       "    <tr>\n",
       "      <th>1</th>\n",
       "      <td>52806</td>\n",
       "      <td>[727, 460, 531, 208, 88, 501, 85]</td>\n",
       "      <td>Tandoori chicken</td>\n",
       "      <td>[lemons, paprika, red onions, chicken thighs, ...</td>\n",
       "    </tr>\n",
       "    <tr>\n",
       "      <th>2</th>\n",
       "      <td>52814</td>\n",
       "      <td>[597, 86, 209, 727, 531, 287, 389]</td>\n",
       "      <td>Thai Green Curry</td>\n",
       "      <td>[potatoes, green beans, sunflower oil, garlic,...</td>\n",
       "    </tr>\n",
       "    <tr>\n",
       "      <th>3</th>\n",
       "      <td>53039</td>\n",
       "      <td>[535, 460, 306, 372, 723, 85, 177, 708]</td>\n",
       "      <td>Piri-piri chicken and slaw</td>\n",
       "      <td>[Chicken, Red Chilli, Garlic, Ginger, Dried Or...</td>\n",
       "    </tr>\n",
       "    <tr>\n",
       "      <th>4</th>\n",
       "      <td>52920</td>\n",
       "      <td>[373, 511, 290, 113, 210]</td>\n",
       "      <td>Chicken Marengo</td>\n",
       "      <td>[Olive Oil, Mushrooms, Chicken Legs, Passata, ...</td>\n",
       "    </tr>\n",
       "    <tr>\n",
       "      <th>5</th>\n",
       "      <td>52850</td>\n",
       "      <td>[242, 88, 351, 340, 601, 635, 737]</td>\n",
       "      <td>Chicken Couscous</td>\n",
       "      <td>[Olive Oil, Onion, Chicken Breast, Ginger, Har...</td>\n",
       "    </tr>\n",
       "    <tr>\n",
       "      <th>6</th>\n",
       "      <td>52770</td>\n",
       "      <td>[74, 179, 108, 114, 575, 373, 421]</td>\n",
       "      <td>Spaghetti Bolognese</td>\n",
       "      <td>[onions, olive oil, garlic, lean minced beef, ...</td>\n",
       "    </tr>\n",
       "    <tr>\n",
       "      <th>7</th>\n",
       "      <td>52826</td>\n",
       "      <td>[609, 460, 435, 212, 55, 85, 34, 731]</td>\n",
       "      <td>Braised Beef Chilli</td>\n",
       "      <td>[Beef, Onions, Garlic, Olive oil, Chorizo, Cum...</td>\n",
       "    </tr>\n",
       "    <tr>\n",
       "      <th>8</th>\n",
       "      <td>52834</td>\n",
       "      <td>[315, 114, 669, 138, 623, 162]</td>\n",
       "      <td>Beef stroganoff</td>\n",
       "      <td>[Olive Oil, Onions, Garlic, Butter, Mushrooms,...</td>\n",
       "    </tr>\n",
       "    <tr>\n",
       "      <th>9</th>\n",
       "      <td>52803</td>\n",
       "      <td>[379, 653, 667, 315, 121]</td>\n",
       "      <td>Beef Wellington</td>\n",
       "      <td>[mushrooms, English Mustard, Olive Oil, Beef F...</td>\n",
       "    </tr>\n",
       "  </tbody>\n",
       "</table>\n",
       "</div>"
      ],
      "text/plain": [
       "      id                                               ings  \\\n",
       "0  52796  [465, 728, 731, 86, 182, 461, 287, 56, 382, 15...   \n",
       "1  52806                  [727, 460, 531, 208, 88, 501, 85]   \n",
       "2  52814                 [597, 86, 209, 727, 531, 287, 389]   \n",
       "3  53039            [535, 460, 306, 372, 723, 85, 177, 708]   \n",
       "4  52920                          [373, 511, 290, 113, 210]   \n",
       "5  52850                 [242, 88, 351, 340, 601, 635, 737]   \n",
       "6  52770                 [74, 179, 108, 114, 575, 373, 421]   \n",
       "7  52826              [609, 460, 435, 212, 55, 85, 34, 731]   \n",
       "8  52834                     [315, 114, 669, 138, 623, 162]   \n",
       "9  52803                          [379, 653, 667, 315, 121]   \n",
       "\n",
       "                         name  \\\n",
       "0   Chicken Alfredo Primavera   \n",
       "1            Tandoori chicken   \n",
       "2            Thai Green Curry   \n",
       "3  Piri-piri chicken and slaw   \n",
       "4             Chicken Marengo   \n",
       "5            Chicken Couscous   \n",
       "6         Spaghetti Bolognese   \n",
       "7         Braised Beef Chilli   \n",
       "8             Beef stroganoff   \n",
       "9             Beef Wellington   \n",
       "\n",
       "                                               ingsM  \n",
       "0  [Butter, Olive Oil, Chicken, Salt, Squash, Bro...  \n",
       "1  [lemons, paprika, red onions, chicken thighs, ...  \n",
       "2  [potatoes, green beans, sunflower oil, garlic,...  \n",
       "3  [Chicken, Red Chilli, Garlic, Ginger, Dried Or...  \n",
       "4  [Olive Oil, Mushrooms, Chicken Legs, Passata, ...  \n",
       "5  [Olive Oil, Onion, Chicken Breast, Ginger, Har...  \n",
       "6  [onions, olive oil, garlic, lean minced beef, ...  \n",
       "7  [Beef, Onions, Garlic, Olive oil, Chorizo, Cum...  \n",
       "8  [Olive Oil, Onions, Garlic, Butter, Mushrooms,...  \n",
       "9  [mushrooms, English Mustard, Olive Oil, Beef F...  "
      ]
     },
     "execution_count": 24,
     "metadata": {},
     "output_type": "execute_result"
    }
   ],
   "source": [
    "meat_db"
   ]
  },
  {
   "cell_type": "code",
   "execution_count": 25,
   "id": "98f6e779",
   "metadata": {},
   "outputs": [],
   "source": [
    "meat_db.to_csv('meat_db')"
   ]
  },
  {
   "cell_type": "code",
   "execution_count": 26,
   "id": "377fb876",
   "metadata": {},
   "outputs": [
    {
     "data": {
      "text/html": [
       "<div>\n",
       "<style scoped>\n",
       "    .dataframe tbody tr th:only-of-type {\n",
       "        vertical-align: middle;\n",
       "    }\n",
       "\n",
       "    .dataframe tbody tr th {\n",
       "        vertical-align: top;\n",
       "    }\n",
       "\n",
       "    .dataframe thead th {\n",
       "        text-align: right;\n",
       "    }\n",
       "</style>\n",
       "<table border=\"1\" class=\"dataframe\">\n",
       "  <thead>\n",
       "    <tr style=\"text-align: right;\">\n",
       "      <th></th>\n",
       "      <th>id</th>\n",
       "      <th>ings</th>\n",
       "    </tr>\n",
       "  </thead>\n",
       "  <tbody>\n",
       "    <tr>\n",
       "      <th>0</th>\n",
       "      <td>52908</td>\n",
       "      <td>[720, 731, 81, 709, 713]</td>\n",
       "    </tr>\n",
       "    <tr>\n",
       "      <th>1</th>\n",
       "      <td>52849</td>\n",
       "      <td>[462, 420, 121, 51, 709, 308, 81, 373, 731]</td>\n",
       "    </tr>\n",
       "    <tr>\n",
       "      <th>2</th>\n",
       "      <td>52869</td>\n",
       "      <td>[727, 713, 720, 322, 323, 389]</td>\n",
       "    </tr>\n",
       "    <tr>\n",
       "      <th>3</th>\n",
       "      <td>52863</td>\n",
       "      <td>[323, 709, 708, 715, 731, 713, 115, 89]</td>\n",
       "    </tr>\n",
       "    <tr>\n",
       "      <th>4</th>\n",
       "      <td>52867</td>\n",
       "      <td>[747, 34, 87, 709]</td>\n",
       "    </tr>\n",
       "    <tr>\n",
       "      <th>5</th>\n",
       "      <td>53047</td>\n",
       "      <td>[265, 708, 340, 715, 727]</td>\n",
       "    </tr>\n",
       "    <tr>\n",
       "      <th>6</th>\n",
       "      <td>52771</td>\n",
       "      <td>[116, 70, 81, 85, 715, 744]</td>\n",
       "    </tr>\n",
       "    <tr>\n",
       "      <th>7</th>\n",
       "      <td>53026</td>\n",
       "      <td>[208, 316, 428, 51]</td>\n",
       "    </tr>\n",
       "    <tr>\n",
       "      <th>8</th>\n",
       "      <td>52906</td>\n",
       "      <td>[427, 428, 349, 377]</td>\n",
       "    </tr>\n",
       "    <tr>\n",
       "      <th>9</th>\n",
       "      <td>52811</td>\n",
       "      <td>[429, 731, 242, 744, 89, 421]</td>\n",
       "    </tr>\n",
       "  </tbody>\n",
       "</table>\n",
       "</div>"
      ],
      "text/plain": [
       "      id                                         ings\n",
       "0  52908                     [720, 731, 81, 709, 713]\n",
       "1  52849  [462, 420, 121, 51, 709, 308, 81, 373, 731]\n",
       "2  52869               [727, 713, 720, 322, 323, 389]\n",
       "3  52863      [323, 709, 708, 715, 731, 713, 115, 89]\n",
       "4  52867                           [747, 34, 87, 709]\n",
       "5  53047                    [265, 708, 340, 715, 727]\n",
       "6  52771                  [116, 70, 81, 85, 715, 744]\n",
       "7  53026                          [208, 316, 428, 51]\n",
       "8  52906                         [427, 428, 349, 377]\n",
       "9  52811                [429, 731, 242, 744, 89, 421]"
      ]
     },
     "execution_count": 26,
     "metadata": {},
     "output_type": "execute_result"
    }
   ],
   "source": [
    "veggie_db"
   ]
  },
  {
   "cell_type": "code",
   "execution_count": 27,
   "id": "b4acdd71",
   "metadata": {},
   "outputs": [
    {
     "ename": "NameError",
     "evalue": "name 'aldi_db' is not defined",
     "output_type": "error",
     "traceback": [
      "\u001b[0;31m---------------------------------------------------------------------------\u001b[0m",
      "\u001b[0;31mNameError\u001b[0m                                 Traceback (most recent call last)",
      "\u001b[0;32m/var/folders/tx/jymtlyn96zb0qj_hvpjlfm5r0000gn/T/ipykernel_2198/2732189451.py\u001b[0m in \u001b[0;36m<module>\u001b[0;34m\u001b[0m\n\u001b[0;32m----> 1\u001b[0;31m \u001b[0maldi_db\u001b[0m\u001b[0;34m\u001b[0m\u001b[0;34m\u001b[0m\u001b[0m\n\u001b[0m",
      "\u001b[0;31mNameError\u001b[0m: name 'aldi_db' is not defined"
     ]
    }
   ],
   "source": [
    "aldi_db"
   ]
  },
  {
   "cell_type": "code",
   "execution_count": 31,
   "id": "50bec1be",
   "metadata": {},
   "outputs": [
    {
     "data": {
      "text/plain": [
       "int"
      ]
     },
     "execution_count": 31,
     "metadata": {},
     "output_type": "execute_result"
    }
   ],
   "source": [
    "type(veggie_db['ings'][4][3])"
   ]
  },
  {
   "cell_type": "code",
   "execution_count": null,
   "id": "5b24ac22",
   "metadata": {},
   "outputs": [],
   "source": []
  }
 ],
 "metadata": {
  "kernelspec": {
   "display_name": "Python 3 (ipykernel)",
   "language": "python",
   "name": "python3"
  },
  "language_info": {
   "codemirror_mode": {
    "name": "ipython",
    "version": 3
   },
   "file_extension": ".py",
   "mimetype": "text/x-python",
   "name": "python",
   "nbconvert_exporter": "python",
   "pygments_lexer": "ipython3",
   "version": "3.9.7"
  }
 },
 "nbformat": 4,
 "nbformat_minor": 5
}
