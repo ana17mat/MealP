{
 "cells": [
  {
   "cell_type": "code",
   "execution_count": 27,
   "id": "00ac1405",
   "metadata": {},
   "outputs": [],
   "source": [
    "\n",
    "\n",
    "categories_list=['Seafood']\n",
    "\n",
    "import numpy as np\n",
    "import pandas as pd\n",
    "import requests\n",
    "\n",
    "list_dicts=[]\n",
    "\n",
    "for category in categories_list: #precorrer lista de categorias\n",
    "\n",
    "    #print(category)\n",
    "\n",
    "    url = \"http://www.themealdb.com/api/json/v1/1/filter.php\"  \n",
    "    response = requests.get(url, params={'c':category})\n",
    "    #print(response.status_code)\n",
    "\n",
    "\n",
    "    id_list=list(pd.DataFrame.from_dict(response.json()['meals'])['idMeal'])  #lista de ids dentro desta categoria\n",
    "\n",
    "    for idM in id_list[:50]: #percorrer lista de ids\n",
    "\n",
    "        #print(idM)\n",
    "\n",
    "        url='http://www.themealdb.com/api/json/v1/1/lookup.php'\n",
    "        response = requests.get(url, params={'i':idM})\n",
    "        #print(response.status_code)\n",
    "\n",
    "        dict=response.json()['meals'][0] #dicionario desta meal\n",
    "        dict['ings'] = [dict[k] for k in list(dict.keys())[9:29] if dict[k]] #acrescenta key-value dos ingredientes\n",
    "        dict['meas'] = [dict[k] for k in list(dict.keys())[29:49] if dict[k]] #acrescenta key-value das measurements\n",
    "\n",
    "        list_dicts.append(dict)\n",
    "\n",
    "\n",
    "tabela=pd.DataFrame(list_dicts)\n",
    "tabela1=tabela.drop(tabela.columns[9:49], axis=1).drop(['strDrinkAlternate','strSource','strImageSource','strCreativeCommonsConfirmed','dateModified'], axis=1)\n",
    "\n",
    "\n",
    "tabela2=tabela1[['idMeal','strMeal','ings']]\n",
    "\n"
   ]
  },
  {
   "cell_type": "code",
   "execution_count": 41,
   "id": "40814145",
   "metadata": {},
   "outputs": [
    {
     "data": {
      "text/plain": [
       "['Salmon', 'Olive oil', 'Soy Sauce', 'Sake', 'Sesame Seed']"
      ]
     },
     "execution_count": 41,
     "metadata": {},
     "output_type": "execute_result"
    }
   ],
   "source": [
    " tabela2['ings'][8]"
   ]
  },
  {
   "cell_type": "code",
   "execution_count": 2,
   "id": "735c43f9",
   "metadata": {},
   "outputs": [],
   "source": [
    "chicken_alfredo = {'id':52796,\n",
    "                    'ings2': [465, 728, 731, 86, 182, 461, 287, 56, 382, 155, 121]}"
   ]
  },
  {
   "cell_type": "code",
   "execution_count": 3,
   "id": "47d34bc5",
   "metadata": {},
   "outputs": [],
   "source": [
    "tandoori_chicken = {'id':52806,\n",
    "                    'ings2': [727,460, 531, 208, 88, 501, 85]}           "
   ]
  },
  {
   "cell_type": "code",
   "execution_count": 4,
   "id": "f1fe50f4",
   "metadata": {},
   "outputs": [],
   "source": [
    "thai_green_curry = {'id':52814,\n",
    "                    'ings2': [597, 86, 209, 727, 531, 287, 389]}"
   ]
  },
  {
   "cell_type": "code",
   "execution_count": 5,
   "id": "0f841cce",
   "metadata": {},
   "outputs": [],
   "source": [
    "piri_piri_chicken_and_slaw = {'id':53039,\n",
    "                            'ings2': [535, 460, 306, 372, 723, 85, 177, 708]}"
   ]
  },
  {
   "cell_type": "code",
   "execution_count": 6,
   "id": "035c26f2",
   "metadata": {},
   "outputs": [],
   "source": [
    "chicken_marengo = {'id': 52920,\n",
    "                    'ings2': [373, 511, 290, 113, 210 ]}"
   ]
  },
  {
   "cell_type": "code",
   "execution_count": 7,
   "id": "ce232b56",
   "metadata": {},
   "outputs": [],
   "source": [
    "chicken_couscous = {'id': 52850,\n",
    "                    'ings2': [242, 88, 351, 340, 601, 635, 737]}"
   ]
  },
  {
   "cell_type": "code",
   "execution_count": 8,
   "id": "36d235a0",
   "metadata": {},
   "outputs": [],
   "source": [
    "ratatouille = {'id': 52908,\n",
    "                'ings2':[720, 731, 81, 709, 713]}"
   ]
  },
  {
   "cell_type": "code",
   "execution_count": 9,
   "id": "180c61fe",
   "metadata": {},
   "outputs": [],
   "source": [
    "spinach_ricotta_canneloni = {'id': 52849,\n",
    "                            'ings2': [462, 420, 121, 51, 709, 308, 81, 373, 731]}"
   ]
  },
  {
   "cell_type": "code",
   "execution_count": 10,
   "id": "5d4aef8b",
   "metadata": {},
   "outputs": [],
   "source": [
    "tahini_lentils = {'id': 52869,\n",
    "                'ings2': [727, 713, 720, 322, 323, 389]}"
   ]
  },
  {
   "cell_type": "code",
   "execution_count": 11,
   "id": "61d85118",
   "metadata": {},
   "outputs": [],
   "source": [
    "vegetarian_cassarole = {'id': 52863,\n",
    "                        'ings2':[323, 709, 708, 715, 731, 713, 115, 89] }\n",
    "                        "
   ]
  },
  {
   "cell_type": "code",
   "execution_count": 12,
   "id": "3128a9f2",
   "metadata": {},
   "outputs": [],
   "source": [
    "vegetarian_chilli = {'id': 52867,\n",
    "                    'ings2': [747, 34, 87, 709, ]}"
   ]
  },
  {
   "cell_type": "code",
   "execution_count": 13,
   "id": "7fff70dd",
   "metadata": {},
   "outputs": [],
   "source": [
    "salmon_avocado_salad = {'id': 52960,\n",
    "                        'ings2': [17, 711, 720, 727, 109, 724]}"
   ]
  },
  {
   "cell_type": "code",
   "execution_count": 14,
   "id": "e53361be",
   "metadata": {},
   "outputs": [],
   "source": [
    "grilled_portuguese_sardines = {'id': 53041,\n",
    "                            'ings2': [66, 67, 460, 727, 85, 373, 339]}"
   ]
  },
  {
   "cell_type": "code",
   "execution_count": 15,
   "id": "b701a020",
   "metadata": {},
   "outputs": [],
   "source": [
    "kung_pow_prawn = {'id': 52946,\n",
    "                'ings2': [19, 421, 444, 316, 414, 34, 35]}"
   ]
  },
  {
   "cell_type": "code",
   "execution_count": 16,
   "id": "867e25c6",
   "metadata": {},
   "outputs": [],
   "source": [
    "salmon_prawn_risotto = {'id': 52823,\n",
    "                        'ings2': [336, 4, 26, 14, 115, 731, 465]}"
   ]
  },
  {
   "cell_type": "code",
   "execution_count": 17,
   "id": "b2a04965",
   "metadata": {},
   "outputs": [],
   "source": [
    "honey_teryaki_salmon = {'id': 52773,\n",
    "                        'ings2': [3, 10, 373, 380, 415, 105]}"
   ]
  },
  {
   "cell_type": "code",
   "execution_count": 18,
   "id": "057c5c47",
   "metadata": {},
   "outputs": [],
   "source": [
    "meat_list=[chicken_alfredo, tandoori_chicken, thai_green_curry, \n",
    "           piri_piri_chicken_and_slaw, chicken_marengo, chicken_couscous]"
   ]
  },
  {
   "cell_type": "code",
   "execution_count": 19,
   "id": "a5c5d094",
   "metadata": {},
   "outputs": [],
   "source": [
    "fish_list=[salmon_avocado_salad, grilled_portuguese_sardines, kung_pow_prawn, \n",
    "           salmon_prawn_risotto, honey_teryaki_salmon]"
   ]
  },
  {
   "cell_type": "code",
   "execution_count": 20,
   "id": "29605f06",
   "metadata": {},
   "outputs": [],
   "source": [
    "veggie_list=[ratatouille, spinach_ricotta_canneloni, tahini_lentils, vegetarian_cassarole, vegetarian_chilli]"
   ]
  },
  {
   "cell_type": "code",
   "execution_count": 21,
   "id": "1788ebeb",
   "metadata": {},
   "outputs": [],
   "source": [
    "import numpy as np\n",
    "import pandas as pd"
   ]
  },
  {
   "cell_type": "code",
   "execution_count": 24,
   "id": "ce5b1f38",
   "metadata": {},
   "outputs": [],
   "source": [
    "meat_db=pd.DataFrame(meat_list)\n",
    "fish_db=pd.DataFrame(fish_list)\n",
    "veggie_db=pd.DataFrame(veggie_list)"
   ]
  },
  {
   "cell_type": "code",
   "execution_count": 32,
   "id": "6deccf57",
   "metadata": {},
   "outputs": [
    {
     "data": {
      "text/html": [
       "<div>\n",
       "<style scoped>\n",
       "    .dataframe tbody tr th:only-of-type {\n",
       "        vertical-align: middle;\n",
       "    }\n",
       "\n",
       "    .dataframe tbody tr th {\n",
       "        vertical-align: top;\n",
       "    }\n",
       "\n",
       "    .dataframe thead th {\n",
       "        text-align: right;\n",
       "    }\n",
       "</style>\n",
       "<table border=\"1\" class=\"dataframe\">\n",
       "  <thead>\n",
       "    <tr style=\"text-align: right;\">\n",
       "      <th></th>\n",
       "      <th>id</th>\n",
       "      <th>ings2</th>\n",
       "    </tr>\n",
       "  </thead>\n",
       "  <tbody>\n",
       "    <tr>\n",
       "      <th>0</th>\n",
       "      <td>52908</td>\n",
       "      <td>[720, 731, 81, 709, 713]</td>\n",
       "    </tr>\n",
       "    <tr>\n",
       "      <th>1</th>\n",
       "      <td>52849</td>\n",
       "      <td>[462, 420, 121, 51, 709, 308, 81, 373, 731]</td>\n",
       "    </tr>\n",
       "    <tr>\n",
       "      <th>2</th>\n",
       "      <td>52869</td>\n",
       "      <td>[727, 713, 720, 322, 323, 389]</td>\n",
       "    </tr>\n",
       "    <tr>\n",
       "      <th>3</th>\n",
       "      <td>52863</td>\n",
       "      <td>[323, 709, 708, 715, 731, 713, 115, 89]</td>\n",
       "    </tr>\n",
       "    <tr>\n",
       "      <th>4</th>\n",
       "      <td>52867</td>\n",
       "      <td>[747, 34, 87, 709]</td>\n",
       "    </tr>\n",
       "  </tbody>\n",
       "</table>\n",
       "</div>"
      ],
      "text/plain": [
       "      id                                        ings2\n",
       "0  52908                     [720, 731, 81, 709, 713]\n",
       "1  52849  [462, 420, 121, 51, 709, 308, 81, 373, 731]\n",
       "2  52869               [727, 713, 720, 322, 323, 389]\n",
       "3  52863      [323, 709, 708, 715, 731, 713, 115, 89]\n",
       "4  52867                           [747, 34, 87, 709]"
      ]
     },
     "execution_count": 32,
     "metadata": {},
     "output_type": "execute_result"
    }
   ],
   "source": [
    "veggie_db"
   ]
  },
  {
   "cell_type": "code",
   "execution_count": null,
   "id": "b93efc6e",
   "metadata": {},
   "outputs": [],
   "source": []
  }
 ],
 "metadata": {
  "kernelspec": {
   "display_name": "Python 3 (ipykernel)",
   "language": "python",
   "name": "python3"
  },
  "language_info": {
   "codemirror_mode": {
    "name": "ipython",
    "version": 3
   },
   "file_extension": ".py",
   "mimetype": "text/x-python",
   "name": "python",
   "nbconvert_exporter": "python",
   "pygments_lexer": "ipython3",
   "version": "3.9.7"
  }
 },
 "nbformat": 4,
 "nbformat_minor": 5
}
